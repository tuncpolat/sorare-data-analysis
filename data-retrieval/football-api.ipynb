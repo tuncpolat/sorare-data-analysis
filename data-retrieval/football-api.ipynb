{
 "cells": [
  {
   "cell_type": "code",
   "execution_count": 1,
   "id": "acd2c0cf",
   "metadata": {},
   "outputs": [],
   "source": [
    "# import modules\n",
    "import requests\n",
    "import json"
   ]
  },
  {
   "cell_type": "code",
   "execution_count": 3,
   "id": "b22ae427",
   "metadata": {},
   "outputs": [],
   "source": [
    "# football data from https://www.api-football.com/\n",
    "baseURL = \"https://v3.football.api-sports.io\"\n",
    "payload={}\n",
    "headers = {\n",
    "  'x-rapidapi-key': 'xxx', # use api key\n",
    "  'x-rapidapi-host': 'v3.football.api-sports.io'\n",
    "}"
   ]
  },
  {
   "cell_type": "code",
   "execution_count": null,
   "id": "a41b1e27",
   "metadata": {},
   "outputs": [],
   "source": [
    "# 1. fetch all leagues (Result: see \"./mock-data/raw_leagues.json\")\n",
    "response = requests.request(\"GET\", baseURL + \"/leagues\", headers=headers, data=payload)\n",
    "jsonData = response.json()\n",
    "with open(\"../data/raw_leagues.json\", \"w\") as write_file:\n",
    "    json.dump(jsonData['response'], write_file)"
   ]
  },
  {
   "cell_type": "code",
   "execution_count": null,
   "id": "043e4eec",
   "metadata": {},
   "outputs": [],
   "source": [
    "# 2. based on all leagues, fetch single seasons where player stats is covered (Result: see \"./mock-data/raw_leagues.json\")\n",
    "\n",
    "# open raw_leagues.json data\n",
    "with open('../data/raw_leagues.json') as file:\n",
    "    leagues = json.load(file)\n",
    "\n",
    "seasons_data = [] # init empty list\n",
    "uniqueIdCount = 1 # add artificial seasons id\n",
    "\n",
    "for league in leagues:\n",
    "    for season in league['seasons']:\n",
    "        if season['coverage']['players'] == True: # save only seasons with player coverage\n",
    "            seasons_data.append({\n",
    "                'seasonID': uniqueIdCount,\n",
    "                'leagueID': league['league']['id'],\n",
    "                'name': league['league']['name'], \n",
    "                'type': league['league']['type'], \n",
    "                'logo': league['league']['logo'],\n",
    "                'country': league['country']['name'],\n",
    "                'year': season['year'],\n",
    "                'start': season['start'],\n",
    "                'end': season['end']\n",
    "            })\n",
    "            uniqueIdCount += 1\n",
    "\n",
    "# save seasons data as json\n",
    "with open('../data/raw_seasons.json', 'w', encoding='utf-8') as f:\n",
    "    json.dump(seasons_data, f, ensure_ascii=False, indent=4)"
   ]
  },
  {
   "cell_type": "code",
   "execution_count": null,
   "id": "ba924f42",
   "metadata": {},
   "outputs": [],
   "source": [
    "# 3. fetch all players based on seasons (Result: see \"./mock-data/raw_players.json\")\n",
    "\n",
    "# open seasons json data\n",
    "with open('../data/raw_seasons.json') as file:\n",
    "    seasons = json.load(file)\n",
    "    \n",
    "players_data = [] # init empty list\n",
    "\n",
    "# iterate over all seasons\n",
    "for season in seasons:\n",
    "    url = baseURL + \"/players?league={leagueID}&season={seasonYear}\".format(leagueID = season['leagueID'], seasonYear = season['year'])\n",
    "    response = requests.request(\"GET\", url + \"\", headers=headers, data=payload)\n",
    "    jsonData = response.json()\n",
    "    current = jsonData['paging']['current'] # for pagination\n",
    "    total = jsonData['paging']['total'] # for pagination\n",
    "    \n",
    "    # pagination\n",
    "    for page in range(current, total + 1):\n",
    "        url = baseURL + \"/players?league={leagueID}&season={seasonYear}&page={page}\".format(leagueID = season['leagueID'], seasonYear = season['year'], page = page)\n",
    "        response = requests.request(\"GET\", url, headers=headers, data=payload)\n",
    "        jsonData = response.json()\n",
    "        results = jsonData['response']\n",
    "        for player in results:\n",
    "            # add player to list\n",
    "            players_data.append({\n",
    "                'leagueID': season['leagueID'],\n",
    "                'seasonID': season['seasonID'],\n",
    "                'seasonYear': season['year'],\n",
    "                'player': player['player'],\n",
    "                'statistics': player['statistics']\n",
    "            })\n",
    "\n",
    "# create raw_players.json file\n",
    "with open('../data/raw_players.json', 'w', encoding='utf-8') as f:\n",
    "    json.dump(players_data, f, ensure_ascii=False, indent=4)\n"
   ]
  }
 ],
 "metadata": {
  "kernelspec": {
   "display_name": "Python 3 (ipykernel)",
   "language": "python",
   "name": "python3"
  },
  "language_info": {
   "codemirror_mode": {
    "name": "ipython",
    "version": 3
   },
   "file_extension": ".py",
   "mimetype": "text/x-python",
   "name": "python",
   "nbconvert_exporter": "python",
   "pygments_lexer": "ipython3",
   "version": "3.9.12"
  }
 },
 "nbformat": 4,
 "nbformat_minor": 5
}
